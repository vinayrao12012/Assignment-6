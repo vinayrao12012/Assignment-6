{
 "cells": [
  {
   "cell_type": "markdown",
   "id": "e0b125b9-c38e-4bc4-b2c1-41bbc913677d",
   "metadata": {},
   "source": [
    "## Q1"
   ]
  },
  {
   "cell_type": "code",
   "execution_count": 1,
   "id": "bed9f7e3-02c0-4aa9-a28e-eae1d471c043",
   "metadata": {},
   "outputs": [],
   "source": [
    "class Vehicle:\n",
    "    \n",
    "    def __init__(self,name_of_vehicle,max_speed,average_of_vehicle):\n",
    "        self.name_of_vehicle = name_of_vehicle\n",
    "        self.max_speed = max_speed\n",
    "        self.average_of_vehicle = average_of_vehicle\n",
    "         "
   ]
  },
  {
   "cell_type": "code",
   "execution_count": 12,
   "id": "03d8f980-2139-4cbb-b882-a5a53b2a2717",
   "metadata": {},
   "outputs": [],
   "source": [
    "car2 = Vehicle(\"Innova\",170,20)"
   ]
  },
  {
   "cell_type": "code",
   "execution_count": 13,
   "id": "e7e47bfa-bec4-4b95-b5a4-7f7bfd7d5f68",
   "metadata": {},
   "outputs": [
    {
     "data": {
      "text/plain": [
       "20"
      ]
     },
     "execution_count": 13,
     "metadata": {},
     "output_type": "execute_result"
    }
   ],
   "source": [
    "car2.average_of_vehicle"
   ]
  },
  {
   "cell_type": "markdown",
   "id": "45d9333f-0da7-457b-b5a6-455b3e079094",
   "metadata": {},
   "source": [
    "## Q2"
   ]
  },
  {
   "cell_type": "code",
   "execution_count": 9,
   "id": "a1f0e650-86c2-4a89-97ab-8c7b6f122fc0",
   "metadata": {},
   "outputs": [],
   "source": [
    "class Car(Vehicle):\n",
    "    def __init__(self,name_of_vehicle,max_speed,average_of_vehicle): \n",
    "        Vehicle.__init__(self,name_of_vehicle,max_speed,average_of_vehicle)\n",
    "        \n",
    "    def seating_capacity(self,capacity):\n",
    "        return (self.name_of_vehicle,capacity)"
   ]
  },
  {
   "cell_type": "code",
   "execution_count": 10,
   "id": "8e26bdb2-53d6-4107-a70d-5163ac0a8ce0",
   "metadata": {},
   "outputs": [],
   "source": [
    "car1 = Car(\"Verna\",210,21)"
   ]
  },
  {
   "cell_type": "code",
   "execution_count": 11,
   "id": "32de21bf-4bc5-4508-9a25-2d43bf0a0a94",
   "metadata": {},
   "outputs": [
    {
     "data": {
      "text/plain": [
       "('Verna', 5)"
      ]
     },
     "execution_count": 11,
     "metadata": {},
     "output_type": "execute_result"
    }
   ],
   "source": [
    "car1.seating_capacity(5)"
   ]
  },
  {
   "cell_type": "markdown",
   "id": "84b1dfd0-d1f0-4aab-a1b3-804405c4bb69",
   "metadata": {},
   "source": [
    "## Q3"
   ]
  },
  {
   "cell_type": "markdown",
   "id": "02068cb3-7b77-4a5f-86bb-326491159fe0",
   "metadata": {},
   "source": [
    "Multiple Inheritance: when a class is derived from more than one class.It is called multiple inheritance."
   ]
  },
  {
   "cell_type": "code",
   "execution_count": 14,
   "id": "76fc38ef-cb5b-4f0a-98ce-1f8ce8c5886d",
   "metadata": {},
   "outputs": [],
   "source": [
    "class A:\n",
    "    def Func(self):\n",
    "        print(\"It is class A\")\n",
    "        \n",
    "class B:\n",
    "    def Func1(self):\n",
    "        print(\"It is class B\")\n",
    "        \n",
    "class C(A,B):\n",
    "    def Func2(self):\n",
    "        print(\"It is class C\")"
   ]
  },
  {
   "cell_type": "code",
   "execution_count": 15,
   "id": "793f3176-73b8-4476-83a6-285f7d2e7897",
   "metadata": {},
   "outputs": [],
   "source": [
    "obj1 = C()"
   ]
  },
  {
   "cell_type": "code",
   "execution_count": 16,
   "id": "2878388a-2956-4da5-8809-557ddaedbd54",
   "metadata": {},
   "outputs": [
    {
     "name": "stdout",
     "output_type": "stream",
     "text": [
      "It is class C\n"
     ]
    }
   ],
   "source": [
    "obj1.Func2()"
   ]
  },
  {
   "cell_type": "code",
   "execution_count": 17,
   "id": "08f3ae3b-8c11-4f56-bad8-a04c8914c2e7",
   "metadata": {},
   "outputs": [
    {
     "name": "stdout",
     "output_type": "stream",
     "text": [
      "It is class B\n"
     ]
    }
   ],
   "source": [
    "obj1.Func1()"
   ]
  },
  {
   "cell_type": "code",
   "execution_count": 18,
   "id": "92bb17e8-83c4-4c5e-b605-5a2a54e6f925",
   "metadata": {},
   "outputs": [
    {
     "name": "stdout",
     "output_type": "stream",
     "text": [
      "It is class A\n"
     ]
    }
   ],
   "source": [
    "obj1.Func()"
   ]
  },
  {
   "cell_type": "markdown",
   "id": "2a883535-ad8b-46d4-8743-ea29a864f8f6",
   "metadata": {},
   "source": [
    "## Q4"
   ]
  },
  {
   "cell_type": "markdown",
   "id": "7de8830b-8462-4cdc-b6c6-2f711d4ad0e6",
   "metadata": {},
   "source": [
    "1. Getter: A method that allows you to access an attribute in a given class.\n",
    "2. Setter:  A method that allows you to set or mutate the value of an attribute in a class."
   ]
  },
  {
   "cell_type": "code",
   "execution_count": 20,
   "id": "52a7cf21-6e07-4057-abb5-7eecefa00a1a",
   "metadata": {},
   "outputs": [],
   "source": [
    "class Employee:\n",
    "    def __init__(self,name,emp_id,password):\n",
    "        self.name = name\n",
    "        self.emp_id = emp_id\n",
    "        self.__password = password\n",
    "        \n",
    "    @property\n",
    "    def password_access(self):\n",
    "        return self.__password\n",
    "    \n",
    "    @password_access.setter\n",
    "    def password_setter(self,new_password):\n",
    "        self.__password = new_password\n",
    "        \n",
    "       "
   ]
  },
  {
   "cell_type": "code",
   "execution_count": 22,
   "id": "6df00876-9c9e-4699-8d24-f41d63ca313d",
   "metadata": {},
   "outputs": [],
   "source": [
    "emp1 = Employee(\"Sanu\",101,\"Praveen12130\")\n"
   ]
  },
  {
   "cell_type": "code",
   "execution_count": 24,
   "id": "6503fc9e-b809-4a88-b8dd-8c158166d616",
   "metadata": {},
   "outputs": [
    {
     "data": {
      "text/plain": [
       "'Praveen12130'"
      ]
     },
     "execution_count": 24,
     "metadata": {},
     "output_type": "execute_result"
    }
   ],
   "source": [
    "emp1.password_access"
   ]
  },
  {
   "cell_type": "code",
   "execution_count": 25,
   "id": "c5a18076-cadc-40da-a6d0-258d2245cf93",
   "metadata": {},
   "outputs": [],
   "source": [
    "emp1.password_setter = \"Pkmrm18130\""
   ]
  },
  {
   "cell_type": "code",
   "execution_count": 26,
   "id": "7313d701-19bf-47dc-a3d6-cef9c91111be",
   "metadata": {},
   "outputs": [
    {
     "data": {
      "text/plain": [
       "'Pkmrm18130'"
      ]
     },
     "execution_count": 26,
     "metadata": {},
     "output_type": "execute_result"
    }
   ],
   "source": [
    "emp1.password_access"
   ]
  },
  {
   "cell_type": "markdown",
   "id": "fdfebf9b-3922-4682-9ec1-3318dcc35bdf",
   "metadata": {},
   "source": [
    "## Q5"
   ]
  },
  {
   "cell_type": "markdown",
   "id": "9f19b8e4-0262-491b-b617-0bf341ff9f41",
   "metadata": {},
   "source": [
    "Method Overriding: It allows a subclass or child class to provide a specific implementation of a method that is already provided by one of its parent classes .Then it is called method overriding."
   ]
  },
  {
   "cell_type": "code",
   "execution_count": 32,
   "id": "5c5772b5-638b-4665-a4db-ac54a31e9b37",
   "metadata": {},
   "outputs": [],
   "source": [
    "class A:\n",
    "    def Func(self):\n",
    "        print(\"This is from class A\")\n",
    "        \n",
    "class B(A):\n",
    "    def Func(self):\n",
    "        print(\"This is from class B\")"
   ]
  },
  {
   "cell_type": "code",
   "execution_count": 33,
   "id": "bc4e125f-c4b0-4786-b3b0-ca82c5dfe590",
   "metadata": {},
   "outputs": [
    {
     "name": "stdout",
     "output_type": "stream",
     "text": [
      "This is from class B\n"
     ]
    }
   ],
   "source": [
    "object1 = B()\n",
    "object1.Func()"
   ]
  },
  {
   "cell_type": "code",
   "execution_count": null,
   "id": "1a3268e0-6f8f-4a15-b38f-0dc6cccf0177",
   "metadata": {},
   "outputs": [],
   "source": []
  }
 ],
 "metadata": {
  "kernelspec": {
   "display_name": "Python 3 (ipykernel)",
   "language": "python",
   "name": "python3"
  },
  "language_info": {
   "codemirror_mode": {
    "name": "ipython",
    "version": 3
   },
   "file_extension": ".py",
   "mimetype": "text/x-python",
   "name": "python",
   "nbconvert_exporter": "python",
   "pygments_lexer": "ipython3",
   "version": "3.10.8"
  }
 },
 "nbformat": 4,
 "nbformat_minor": 5
}
